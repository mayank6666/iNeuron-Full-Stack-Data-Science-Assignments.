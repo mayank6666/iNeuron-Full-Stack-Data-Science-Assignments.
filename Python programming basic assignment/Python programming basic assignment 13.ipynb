{
 "cells": [
  {
   "cell_type": "markdown",
   "id": "df9b42f4",
   "metadata": {},
   "source": [
    "# Question 1:\n",
    "Write a program that calculates and prints the value according to the given formula: <br>\n",
    "Q = Square root of [(2 * C * D)/H] <br>\n",
    "Following are the fixed values of C and H: <br>\n",
    "C is 50. H is 30. <br>\n",
    "D is the variable whose values should be input to your program in a comma-separated\n",
    "sequence. <br>\n",
    "Example <br>\n",
    "Let us assume the following comma separated input sequence is given to the program: <br>\n",
    "100,150,180 <br>\n",
    "The output of the program should be: <br>\n",
    "18,22,24 <br>"
   ]
  },
  {
   "cell_type": "code",
   "execution_count": 1,
   "id": "96424aad",
   "metadata": {},
   "outputs": [
    {
     "name": "stdout",
     "output_type": "stream",
     "text": [
      "{'Banana': 60, 'Grape': 13, 'Mango': 100, 'PineApple': 22}\n",
      "{'Grape': 13, 'PineApple': 22, 'Banana': 60, 'Mango': 100}\n"
     ]
    }
   ],
   "source": [
    "d_items = {'Mango':100,'PineApple':22,'Banana':60,'Grape':13}\n",
    "\n",
    "def sort_dict(in_dict,sort_type):\n",
    "    if sort_type == 'key':\n",
    "        print(dict(sorted(in_dict.items(), key=lambda x:x[0], reverse=False)))\n",
    "    else:\n",
    "        print(dict(sorted(in_dict.items(), key=lambda x:x[1], reverse=False)))\n",
    "        \n",
    "sort_dict(d_items,'key')        \n",
    "sort_dict(d_items,'value')"
   ]
  },
  {
   "cell_type": "markdown",
   "id": "9dfeadb8",
   "metadata": {},
   "source": [
    "# Question 2:\n",
    "Write a program which takes 2 digits, X,Y as input and generates a 2-dimensional array. The <br>\n",
    "element value in the i-th row and j-th column of the array should be i*j. <br>\n",
    "Note: i=0,1.., X-1; j=0,1,¡Y-1. <br>\n",
    "Example <br>\n",
    "Suppose the following inputs are given to the program: <br>\n",
    "3,5 <br>\n",
    "Then, the output of the program should be: <br>\n",
    "[[0, 0, 0, 0, 0], [0, 1, 2, 3, 4], [0, 2, 4, 6, 8]] <br>"
   ]
  },
  {
   "cell_type": "code",
   "execution_count": null,
   "id": "0a46ded4",
   "metadata": {},
   "outputs": [],
   "source": []
  },
  {
   "cell_type": "markdown",
   "id": "77a73dd3",
   "metadata": {},
   "source": [
    "# Question 3:\n",
    "Write a program that accepts a comma separated sequence of words as input and prints the <br>\n",
    "words in a comma-separated sequence after sorting them alphabetically. <br>\n",
    "Suppose the following input is supplied to the program: <br>\n",
    "without,hello,bag,world <br>\n",
    "Then, the output should be: <br>\n",
    "bag,hello,without,world  <br>"
   ]
  },
  {
   "cell_type": "code",
   "execution_count": null,
   "id": "fd267745",
   "metadata": {},
   "outputs": [],
   "source": []
  },
  {
   "cell_type": "markdown",
   "id": "cc160c1f",
   "metadata": {},
   "source": [
    "# Question 4:\n",
    "Write a program that accepts a sequence of whitespace separated words as input and prints <br>\n",
    "the words after removing all duplicate words and sorting them alphanumerically. <br>\n",
    "Suppose the following input is supplied to the program: <br>\n",
    "hello world and practice makes perfect and hello world again <br> \n",
    "Then, the output should be: <br> \n",
    "again and hello makes perfect practice world <br>"
   ]
  },
  {
   "cell_type": "code",
   "execution_count": null,
   "id": "d4792566",
   "metadata": {},
   "outputs": [],
   "source": []
  },
  {
   "cell_type": "markdown",
   "id": "f31f468c",
   "metadata": {},
   "source": [
    "# Question 5:\n",
    "Write a program that accepts a sentence and calculate the number of letters and digits. <br>\n",
    "Suppose the following input is supplied to the program: <br> \n",
    "hello world! 123 <br>\n",
    "Then, the output should be: <br>\n",
    "LETTERS 10 <br>\n",
    "DIGITS 3 <br>"
   ]
  },
  {
   "cell_type": "code",
   "execution_count": null,
   "id": "906f528b",
   "metadata": {},
   "outputs": [],
   "source": []
  },
  {
   "cell_type": "markdown",
   "id": "2d281a95",
   "metadata": {},
   "source": [
    "# Question 6:\n",
    "A website requires the users to input username and password to register. Write a program to <br>\n",
    "check the validity of password input by users. <br>\n",
    "Following are the criteria for checking the password: <br>\n",
    "1. At least 1 letter between [a-z] <br>\n",
    "2. At least 1 number between [0-9] <br>\n",
    "1. At least 1 letter between [A-Z] <br>\n",
    "3. At least 1 character from [$#@] <br> \n",
    "4. Minimum length of transaction password: 6 <br>\n",
    "5. Maximum length of transaction password: 12 <br>\n",
    "Your program should accept a sequence of comma separated passwords and will check them <br>\n",
    "according to the above criteria. Passwords that match the criteria are to be printed, each <br>\n",
    "separated by a comma. <br>\n",
    "Example <br>\n",
    "If the following passwords are given as input to the program: <br>\n",
    "ABd1234@1,a F1#,2w3E*,2We3345 <br>\n",
    "Then, the output of the program should be: <br>\n",
    "ABd1234@1 "
   ]
  },
  {
   "cell_type": "code",
   "execution_count": null,
   "id": "bbcd3892",
   "metadata": {},
   "outputs": [],
   "source": []
  }
 ],
 "metadata": {
  "kernelspec": {
   "display_name": "Python 3 (ipykernel)",
   "language": "python",
   "name": "python3"
  },
  "language_info": {
   "codemirror_mode": {
    "name": "ipython",
    "version": 3
   },
   "file_extension": ".py",
   "mimetype": "text/x-python",
   "name": "python",
   "nbconvert_exporter": "python",
   "pygments_lexer": "ipython3",
   "version": "3.9.7"
  }
 },
 "nbformat": 4,
 "nbformat_minor": 5
}
