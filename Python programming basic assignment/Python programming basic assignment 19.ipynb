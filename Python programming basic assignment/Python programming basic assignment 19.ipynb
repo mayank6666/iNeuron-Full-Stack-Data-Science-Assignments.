{
 "cells": [
  {
   "cell_type": "markdown",
   "id": "7b3cecc3",
   "metadata": {},
   "source": [
    "# Question1\n",
    "Create a function that takes a string and returns a string in which each character is repeated <br>\n",
    "once. <br>\n",
    "Examples <br>\n",
    "double_char(&quot;String&quot;) ➞ &quot;SSttrriinngg&quot; <br>\n",
    "double_char(&quot;Hello World!&quot;) ➞ &quot;HHeelllloo WWoorrlldd!!&quot; <br>\n",
    "double_char(&quot;1234!_ &quot;) ➞ &quot;11223344!!__ &quot; <br>"
   ]
  },
  {
   "cell_type": "code",
   "execution_count": null,
   "id": "d7759bda",
   "metadata": {},
   "outputs": [],
   "source": []
  },
  {
   "cell_type": "markdown",
   "id": "b54062b2",
   "metadata": {},
   "source": [
    "# Question2\n",
    "Create a function that reverses a boolean value and returns the string &quot;boolean expected&quot; <br>\n",
    "if another variable type is given. <br>\n",
    "Examples <br>\n",
    "reverse(True) ➞ False <br>\n",
    "reverse(False) ➞ True <br>\n",
    "reverse(0) ➞ &quot;boolean expected&quot; <br>\n",
    "reverse(None) ➞ &quot;boolean expected&quot; <br>"
   ]
  },
  {
   "cell_type": "code",
   "execution_count": null,
   "id": "75c6c4f5",
   "metadata": {},
   "outputs": [],
   "source": []
  },
  {
   "cell_type": "markdown",
   "id": "eead1bdc",
   "metadata": {},
   "source": [
    "# Question3\n",
    "Create a function that returns the thickness (in meters) of a piece of paper after folding it n <br>\n",
    "number of times. The paper starts off with a thickness of 0.5mm. <br>\n",
    "Examples <br>\n",
    "num_layers(1) ➞ &quot;0.001m&quot; <br>\n",
    "# Paper folded once is 1mm (equal to 0.001m) <br>\n",
    "num_layers(4) ➞ &quot;0.008m&quot; <br>\n",
    "# Paper folded 4 times is 8mm (equal to 0.008m) <br>\n",
    "num_layers(21) ➞ &quot;1048.576m&quot; <br>\n",
    "# Paper folded 21 times is 1048576mm (equal to 1048.576m) <br>"
   ]
  },
  {
   "cell_type": "code",
   "execution_count": null,
   "id": "c54abb37",
   "metadata": {},
   "outputs": [],
   "source": []
  },
  {
   "cell_type": "markdown",
   "id": "ad258403",
   "metadata": {},
   "source": [
    "# Question4\n",
    "\n",
    "Create a function that takes a single string as argument and returns an ordered list containing <br>\n",
    "the indices of all capital letters in the string. <br>\n",
    "Examples <br>\n",
    "index_of_caps(&quot;eDaBiT&quot;) ➞ [1, 3, 5] <br>\n",
    "index_of_caps(&quot;eQuINoX&quot;) ➞ [1, 3, 4, 6] <br>\n",
    "index_of_caps(&quot;determine&quot;) ➞ [] <br>\n",
    "index_of_caps(&quot;STRIKE&quot;) ➞ [0, 1, 2, 3, 4, 5] <br>\n",
    "index_of_caps(&quot;sUn&quot;) ➞ [1] <br>"
   ]
  },
  {
   "cell_type": "code",
   "execution_count": null,
   "id": "532019bd",
   "metadata": {},
   "outputs": [],
   "source": []
  },
  {
   "cell_type": "markdown",
   "id": "8392898a",
   "metadata": {},
   "source": [
    "# Question5\n",
    "Using list comprehensions, create a function that finds all even numbers from 1 to the given <br>\n",
    "number. <br>\n",
    "Examples <br>\n",
    "find_even_nums(8) ➞ [2, 4, 6, 8] <br>\n",
    "find_even_nums(4) ➞ [2, 4] <br>\n",
    "find_even_nums(2) ➞ [2] <br>"
   ]
  },
  {
   "cell_type": "code",
   "execution_count": null,
   "id": "3530e2a7",
   "metadata": {},
   "outputs": [],
   "source": []
  },
  {
   "cell_type": "code",
   "execution_count": null,
   "id": "52bc99f4",
   "metadata": {},
   "outputs": [],
   "source": []
  }
 ],
 "metadata": {
  "kernelspec": {
   "display_name": "Python 3 (ipykernel)",
   "language": "python",
   "name": "python3"
  },
  "language_info": {
   "codemirror_mode": {
    "name": "ipython",
    "version": 3
   },
   "file_extension": ".py",
   "mimetype": "text/x-python",
   "name": "python",
   "nbconvert_exporter": "python",
   "pygments_lexer": "ipython3",
   "version": "3.9.7"
  }
 },
 "nbformat": 4,
 "nbformat_minor": 5
}
