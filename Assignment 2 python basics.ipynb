{
 "cells": [
  {
   "cell_type": "markdown",
   "id": "98f530b2",
   "metadata": {},
   "source": [
    "# 1.What are the two values of the Boolean data type? How do you write them?"
   ]
  },
  {
   "cell_type": "markdown",
   "id": "7ae47458",
   "metadata": {},
   "source": [
    "<b>Ans</b>: True and False are two values of the boolen data types. We have to use capital T and F and with the rest of the word in lowercase"
   ]
  },
  {
   "cell_type": "code",
   "execution_count": 18,
   "id": "815d6109",
   "metadata": {},
   "outputs": [
    {
     "name": "stdout",
     "output_type": "stream",
     "text": [
      "True <class 'bool'>\n",
      "False <class 'bool'>\n"
     ]
    }
   ],
   "source": [
    "a=True\n",
    "b=False\n",
    "print(a,type(a))\n",
    "print(b,type(b))"
   ]
  },
  {
   "cell_type": "markdown",
   "id": "c322d821",
   "metadata": {},
   "source": [
    "# 2. What are the three different types of Boolean operators?"
   ]
  },
  {
   "cell_type": "markdown",
   "id": "3228123a",
   "metadata": {},
   "source": [
    "<b>Ans</b>: The three differnt types of Boolean operators in python are: and , or , not"
   ]
  },
  {
   "cell_type": "code",
   "execution_count": 19,
   "id": "0c9ed5f2",
   "metadata": {},
   "outputs": [
    {
     "name": "stdout",
     "output_type": "stream",
     "text": [
      "True\n",
      "True\n",
      "False\n"
     ]
    }
   ],
   "source": [
    "a=100\n",
    "b=150\n",
    "print(a>50 and b>100) # Example of boolean and\n",
    "print(a>200 or b>100) # Example of boolean or\n",
    "print(not(a>10)) # Example of boolean not"
   ]
  },
  {
   "cell_type": "markdown",
   "id": "59e055b1",
   "metadata": {},
   "source": [
    "# 3. Make a list of each Boolean operator's truth tables (i.e. every possible combination of Boolean values for the operator and what it evaluate) ?"
   ]
  },
  {
   "cell_type": "markdown",
   "id": "054ffd3d",
   "metadata": {},
   "source": [
    "<b>Ans</b>: The Truth tables for the boolean tables are as follows:"
   ]
  },
  {
   "cell_type": "markdown",
   "id": "935a002a",
   "metadata": {},
   "source": [
    "- <b>Truth Table for and operator : </b>\n",
    "\n",
    "    True and True is True <br>\n",
    "    True and False is False<br>\n",
    "    False and True is False<br>\n",
    "    False and False is False<br>\n",
    "    \n",
    "\n",
    "* <b>Truth Table for or operator  </b>:\n",
    "\n",
    "    True and True is True<br>\n",
    "    True and False is True<br>\n",
    "    False and True is True<br>\n",
    "    False and False is False<br>\n",
    "    \n",
    "\n",
    "* <b>Truth Table for not operator : </b>\n",
    "\n",
    "    True not is False False not is True"
   ]
  },
  {
   "cell_type": "markdown",
   "id": "39efecb9",
   "metadata": {},
   "source": [
    "# 4. What are the values of the following expressions ?\n",
    "\n",
    "* (5 > 4) and (3 == 5) <br>\n",
    "* not (5 > 4) <br>\n",
    "* (5 > 4) or (3 == 5) <br>\n",
    "* not ((5 > 4) or (3 == 5)) <br>\n",
    "* (True and True) and (True == False) <br>\n",
    "* (not False) or (not True) <br>"
   ]
  },
  {
   "cell_type": "code",
   "execution_count": 20,
   "id": "17cea7aa",
   "metadata": {},
   "outputs": [
    {
     "name": "stdout",
     "output_type": "stream",
     "text": [
      "False\n",
      "False\n",
      "True\n",
      "False\n",
      "False\n",
      "True\n"
     ]
    }
   ],
   "source": [
    "print((5>4 and (3==5)))\n",
    "print(not(5>4))\n",
    "print((5>4 or (3==5)))\n",
    "print((not(5>4) or (3==5)))\n",
    "print(((True and True) and (True == False)))\n",
    "print(((not False) or (not True)))"
   ]
  },
  {
   "cell_type": "markdown",
   "id": "b84b5721",
   "metadata": {},
   "source": [
    "# 5. What are the six comparison operators?"
   ]
  },
  {
   "cell_type": "markdown",
   "id": "9c97804b",
   "metadata": {},
   "source": [
    "<b>Ans:</b> The Six comparision operators available in python are: <br>\n",
    "<b>== , != , < , > , <= , => </b>"
   ]
  },
  {
   "cell_type": "markdown",
   "id": "825395e3",
   "metadata": {},
   "source": [
    "# 6. How do you tell the difference between the equal to and assignment operators?Describe a condition and when you would use one."
   ]
  },
  {
   "cell_type": "markdown",
   "id": "7a19a603",
   "metadata": {},
   "source": [
    "<b>Ans:</b> == is the equal to operator that compares two values and evaluates to a Boolean.\n",
    "<br> while = is that assignment operator that stores a value in a variable"
   ]
  },
  {
   "cell_type": "code",
   "execution_count": 21,
   "id": "3afc3d96",
   "metadata": {},
   "outputs": [
    {
     "name": "stdout",
     "output_type": "stream",
     "text": [
      "True\n"
     ]
    }
   ],
   "source": [
    "a=6# Assigning operator that stores 3 value in a variable a\n",
    "\n",
    "if a==6:#comparing values of a varible value and 3\n",
    "    print(a==6)  "
   ]
  },
  {
   "cell_type": "markdown",
   "id": "bd3d6d01",
   "metadata": {},
   "source": [
    "# 7. Identify the three blocks in this code:\n",
    "spam = 0 <br>\n",
    "if spam == 10: <br>\n",
    "print('eggs') <br>\n",
    "if spam > 5: <br>\n",
    "print('bacon') <br>\n",
    "else: <br>\n",
    "print('ham') <br>\n",
    "print('spam') <br>\n",
    "print('spam') <br>"
   ]
  },
  {
   "cell_type": "markdown",
   "id": "f6521cb1",
   "metadata": {},
   "source": [
    "<b>Ans:</b> In Python, code block refers to a collection of code that is in the same block or indent. This is most commonly found in classes, functions, and loops.\n",
    "\n"
   ]
  },
  {
   "cell_type": "code",
   "execution_count": 22,
   "id": "9d3d1a58",
   "metadata": {},
   "outputs": [
    {
     "name": "stdout",
     "output_type": "stream",
     "text": [
      "ham\n",
      "spam\n",
      "spam\n"
     ]
    }
   ],
   "source": [
    "spam = 0  \n",
    "if spam == 10:  \n",
    "    print('eggs')  # block #1\n",
    "if spam > 5:  \n",
    "    print('bacon')  # block #2\n",
    "else:  \n",
    "    print('ham')  # block #3\n",
    "print('spam')  \n",
    "print('spam')"
   ]
  },
  {
   "cell_type": "markdown",
   "id": "e23541a6",
   "metadata": {},
   "source": [
    "# 8. Write code that prints Hello if 1 is stored in spam, prints Howdy if 2 is stored in spam, and prints Greetings! if anything else is stored in spam."
   ]
  },
  {
   "cell_type": "code",
   "execution_count": 7,
   "id": "540c11de",
   "metadata": {},
   "outputs": [
    {
     "name": "stdout",
     "output_type": "stream",
     "text": [
      "Hello\n",
      "Howdy\n",
      "Greetings\n"
     ]
    }
   ],
   "source": [
    "# following code is below\n",
    "\n",
    "def spame(spam):\n",
    "    if spam==1:\n",
    "        print('Hello')\n",
    "    elif spam==2:\n",
    "        print('Howdy')\n",
    "    else:\n",
    "        print('Greetings')\n",
    "        \n",
    "spame(1) \n",
    "spame(2)\n",
    "spame(3)"
   ]
  },
  {
   "cell_type": "markdown",
   "id": "7e36d2f4",
   "metadata": {},
   "source": [
    "# 9.If your programme is stuck in an endless loop, what keys you’ll press?"
   ]
  },
  {
   "cell_type": "markdown",
   "id": "cac6c2f7",
   "metadata": {},
   "source": [
    "<b>Ans</b>: Press Ctrl-c to stop a program stuck in an infinite loop."
   ]
  },
  {
   "cell_type": "markdown",
   "id": "d82971ac",
   "metadata": {},
   "source": [
    "# 10. How can you tell the difference between break and continue?"
   ]
  },
  {
   "cell_type": "markdown",
   "id": "2421ab83",
   "metadata": {},
   "source": [
    "<b>Ans:</b> The break statement will move the execution outside the loop if break condtion is satisfied. Whereas the continue statement will move the execution to the start of the loop."
   ]
  },
  {
   "cell_type": "markdown",
   "id": "81152720",
   "metadata": {},
   "source": [
    "# 11. In a for loop, what is the difference between range(10), range(0, 10), and range(0, 10, 1)?"
   ]
  },
  {
   "cell_type": "markdown",
   "id": "6666c714",
   "metadata": {},
   "source": [
    "<b>Ans:</b> The Differences are as follows:\n",
    "\n",
    "The <b>range(10)</b> call range from 0 to 9 (but not include 10). <br>\n",
    "The <b>range (0,10)</b> explicitly tells the loop to start at 0.   <br>\n",
    "The <b>range(0,10,1)</b> explicitly tells the loop to increase the variable by 1 on each iteration."
   ]
  },
  {
   "cell_type": "markdown",
   "id": "7f4bc6a0",
   "metadata": {},
   "source": [
    "# 12. Write a short program that prints the numbers 1 to 10 using a for loop. Then write an equivalent program that prints the numbers 1 to 10 using a while loop."
   ]
  },
  {
   "cell_type": "code",
   "execution_count": 15,
   "id": "089de5ee",
   "metadata": {},
   "outputs": [
    {
     "name": "stdout",
     "output_type": "stream",
     "text": [
      "1 2 3 4 5 6 7 8 9 10 "
     ]
    }
   ],
   "source": [
    "# using for loop print 1 to 10.\n",
    "for i in range (1,11):\n",
    "    print(i, end = \" \")"
   ]
  },
  {
   "cell_type": "code",
   "execution_count": 19,
   "id": "dad554dc",
   "metadata": {},
   "outputs": [
    {
     "name": "stdout",
     "output_type": "stream",
     "text": [
      "1 2 3 4 5 6 7 8 9 10 "
     ]
    }
   ],
   "source": [
    "# using while loop print 1 to 10.\n",
    "i=1\n",
    "while i<=10:\n",
    "    print(i, end=\" \")\n",
    "    i+=1"
   ]
  },
  {
   "cell_type": "markdown",
   "id": "8eb5be40",
   "metadata": {},
   "source": [
    "# 13. If you had a function named bacon() inside a module named spam, how would you call it after importing spam?"
   ]
  },
  {
   "cell_type": "markdown",
   "id": "c9f8c0ab",
   "metadata": {},
   "source": [
    "<b>Ans:</b> This function can be called with spam.bacon()."
   ]
  }
 ],
 "metadata": {
  "kernelspec": {
   "display_name": "Python 3 (ipykernel)",
   "language": "python",
   "name": "python3"
  },
  "language_info": {
   "codemirror_mode": {
    "name": "ipython",
    "version": 3
   },
   "file_extension": ".py",
   "mimetype": "text/x-python",
   "name": "python",
   "nbconvert_exporter": "python",
   "pygments_lexer": "ipython3",
   "version": "3.9.7"
  }
 },
 "nbformat": 4,
 "nbformat_minor": 5
}
