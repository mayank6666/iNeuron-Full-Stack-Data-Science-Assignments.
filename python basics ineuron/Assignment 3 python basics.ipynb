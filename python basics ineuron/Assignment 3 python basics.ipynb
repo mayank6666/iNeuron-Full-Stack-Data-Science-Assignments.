{
 "cells": [
  {
   "cell_type": "markdown",
   "id": "80371766",
   "metadata": {},
   "source": [
    "# 1. Why are functions advantageous to have in your programs?"
   ]
  },
  {
   "cell_type": "markdown",
   "id": "43f55ed4",
   "metadata": {},
   "source": [
    "<b>Ans:</b> Functions reduce the need for duplicate code. This makes programs shorter, easier to read, and easier to update. The main advantage of functions is code Reusability. so we can easily use that code also."
   ]
  },
  {
   "cell_type": "markdown",
   "id": "33ceeb0f",
   "metadata": {},
   "source": [
    "# 2. When does the code in a function run: when it&#39;s specified or when it&#39;s called?"
   ]
  },
  {
   "cell_type": "markdown",
   "id": "e31f1feb",
   "metadata": {},
   "source": [
    "<b>Ans:</b> The code in a function executes when the function is called, not when the function is specified."
   ]
  },
  {
   "cell_type": "markdown",
   "id": "70b1e9ff",
   "metadata": {},
   "source": [
    "# 3. What statement creates a function?"
   ]
  },
  {
   "cell_type": "markdown",
   "id": "59a4d4ae",
   "metadata": {},
   "source": [
    "<b>Ans:</b> The <b>def</b> statement defines a function. Where <b>def</b> is the keyword in the Python language."
   ]
  },
  {
   "cell_type": "markdown",
   "id": "3d9e20cb",
   "metadata": {},
   "source": [
    "# 4. What is the difference between a function and a function call?"
   ]
  },
  {
   "cell_type": "markdown",
   "id": "af18b70d",
   "metadata": {},
   "source": [
    "<b>Ans:</b> A function is procedure to achieve a particular result. while function call is using this function to achive that task. Using a function to do a particular task any point in program is called as function call. and also it's refers some points also cosidered as a address."
   ]
  },
  {
   "cell_type": "markdown",
   "id": "9f264f65",
   "metadata": {},
   "source": [
    "# 5. How many global scopes are there in a Python program? How many local scopes?"
   ]
  },
  {
   "cell_type": "markdown",
   "id": "3ea37119",
   "metadata": {},
   "source": [
    "<b>Ans:</b> There is one global scope, and a local scope is created whenever a function is called."
   ]
  },
  {
   "cell_type": "markdown",
   "id": "240bcfae",
   "metadata": {},
   "source": [
    "# 6. What happens to variables in a local scope when the function call returns?"
   ]
  },
  {
   "cell_type": "markdown",
   "id": "f09f1ae7",
   "metadata": {},
   "source": [
    "<b>Ans:</b> When a function returns, the local scope is destroyed, and all the variables in it are forgotten."
   ]
  },
  {
   "cell_type": "markdown",
   "id": "e586def8",
   "metadata": {},
   "source": [
    "# 7. What is the concept of a return value? Is it possible to have a return value in an expression?"
   ]
  },
  {
   "cell_type": "markdown",
   "id": "20cdf4e6",
   "metadata": {},
   "source": [
    "<b>Ans:</b> A return value is the value that a function call evaluates to. Like any value, a return value can be used as part of an expression."
   ]
  },
  {
   "cell_type": "markdown",
   "id": "53b0aef9",
   "metadata": {},
   "source": [
    "# 8. If a function does not have a return statement, what is the return value of a call to that function?"
   ]
  },
  {
   "cell_type": "markdown",
   "id": "659d2e78",
   "metadata": {},
   "source": [
    "<b>Ans:</b> If there is no return statement for a function, its return value is None."
   ]
  },
  {
   "cell_type": "markdown",
   "id": "94ae37bf",
   "metadata": {},
   "source": [
    "# 9. How do you make a function variable refer to the global variable?"
   ]
  },
  {
   "cell_type": "markdown",
   "id": "e2e36e41",
   "metadata": {},
   "source": [
    "<b>Ans:</b> A global statement will force a variable in a function to refer to the global variable. If you want to refer to a global variable in a function, you can use the global keyword to declare which variables are global."
   ]
  },
  {
   "cell_type": "markdown",
   "id": "fd294b91",
   "metadata": {},
   "source": [
    "# 10. What is the data type of None?"
   ]
  },
  {
   "cell_type": "markdown",
   "id": "9369548c",
   "metadata": {},
   "source": [
    "<b>Ans:</b> The data type of None is NoneType."
   ]
  },
  {
   "cell_type": "markdown",
   "id": "1f12b3af",
   "metadata": {},
   "source": [
    "# 11. What does the sentence import areallyourpetsnamederic do?"
   ]
  },
  {
   "cell_type": "markdown",
   "id": "af7b753c",
   "metadata": {},
   "source": [
    "<b>Ans:</b> That import statement imports a module named areallyourpetsnamederic."
   ]
  },
  {
   "cell_type": "markdown",
   "id": "1886de42",
   "metadata": {},
   "source": [
    "# 12. If you had a bacon() feature in a spam module, what would you call it after importing spam?"
   ]
  },
  {
   "cell_type": "markdown",
   "id": "b8edf0b9",
   "metadata": {},
   "source": [
    "<b>Ans:</b> This function can be called with spam.bacon()."
   ]
  },
  {
   "cell_type": "markdown",
   "id": "27be09fb",
   "metadata": {},
   "source": [
    "# 13. What can you do to save a programme from crashing if it encounters an error?"
   ]
  },
  {
   "cell_type": "markdown",
   "id": "6d4a5af9",
   "metadata": {},
   "source": [
    "<b>Ans:</b> Place the line of code that might cause an error in a try clause and use except block to handle the error."
   ]
  },
  {
   "cell_type": "markdown",
   "id": "75bc4d02",
   "metadata": {},
   "source": [
    "# 14. What is the purpose of the try clause? What is the purpose of the except clause?"
   ]
  },
  {
   "cell_type": "markdown",
   "id": "6ccfd34c",
   "metadata": {},
   "source": [
    "<b>Ans:</b>The code that could potentially cause an error goes in the try clause. The code that executes if an error happens goes in the except clause."
   ]
  }
 ],
 "metadata": {
  "kernelspec": {
   "display_name": "Python 3 (ipykernel)",
   "language": "python",
   "name": "python3"
  },
  "language_info": {
   "codemirror_mode": {
    "name": "ipython",
    "version": 3
   },
   "file_extension": ".py",
   "mimetype": "text/x-python",
   "name": "python",
   "nbconvert_exporter": "python",
   "pygments_lexer": "ipython3",
   "version": "3.9.7"
  }
 },
 "nbformat": 4,
 "nbformat_minor": 5
}
