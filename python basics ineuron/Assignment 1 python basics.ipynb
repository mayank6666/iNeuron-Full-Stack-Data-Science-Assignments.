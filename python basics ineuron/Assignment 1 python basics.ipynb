{
 "cells": [
  {
   "cell_type": "markdown",
   "id": "1a2785c8",
   "metadata": {},
   "source": [
    "# 1. In the below elements which of them are values or an expression? eg:- values can be integer or string and expressions will be mathematical operators."
   ]
  },
  {
   "cell_type": "markdown",
   "id": "f7dcec25",
   "metadata": {},
   "source": [
    "\" * , -87.8 , - , / , + , 6 , 'hello' \"\n",
    "\n",
    "<b>Ans</b> : There are total 4 operators and 3 expressions which is follows as mentioned below\n",
    "\n",
    "<b>operators</b> :  * , / , - , + <br>\n",
    "<b>Expressions</b> : 'hello' , 6 , 87.8"
   ]
  },
  {
   "cell_type": "markdown",
   "id": "94039bcb",
   "metadata": {},
   "source": [
    "# 2.what is the difference between string and variable "
   ]
  },
  {
   "cell_type": "markdown",
   "id": "e7b0139a",
   "metadata": {},
   "source": [
    "<b>string</b>: string is always identified with the single quotations or double quotationes.<br>\n",
    "<b>variable</b>: use of the variable is to stored some information , so that in future we can easily access."
   ]
  },
  {
   "cell_type": "markdown",
   "id": "e4b84e86",
   "metadata": {},
   "source": [
    "# 3.Describe three different data-types?"
   ]
  },
  {
   "cell_type": "markdown",
   "id": "d657258a",
   "metadata": {},
   "source": [
    "<b>Ans</b>:There are total three of fundamental data types in the python which is follows as the mentioned below.\n",
    "\n",
    "Integer data types : we can use integer data types to represnts only NUMBERS(only Int values).\n",
    "    \n",
    "Float data types :we can use this data types to represents to Any number, it can be Any value oR Any points.(decimal value oR points)\n",
    "\n",
    "Complex data types : Complex numbers are the combinations of real numbers And imaginary numbers (real + imaginary).\n"
   ]
  },
  {
   "cell_type": "code",
   "execution_count": 51,
   "id": "770b132c",
   "metadata": {},
   "outputs": [
    {
     "name": "stdout",
     "output_type": "stream",
     "text": [
      "78 <class 'int'>\n",
      "78.78 <class 'float'>\n",
      "78200.0 <class 'float'>\n",
      "(78+3j) <class 'complex'>\n"
     ]
    }
   ],
   "source": [
    "# examples of these three data types:  \n",
    "\n",
    "int_sum=78\n",
    "print(int_sum, type(int_sum))\n",
    "\n",
    "float_sum=78.78\n",
    "print(float_sum, type(float_sum))\n",
    "\n",
    "fl_sum=78.2e3\n",
    "print(fl_sum, type(fl_sum))\n",
    "\n",
    "\n",
    "complex_sum=78+3j\n",
    "print(complex_sum, type(complex_sum))\n"
   ]
  },
  {
   "cell_type": "markdown",
   "id": "08889dcf",
   "metadata": {},
   "source": [
    "# 4.What is an expression made up of? What do all expressions do?"
   ]
  },
  {
   "cell_type": "markdown",
   "id": "4d1448e5",
   "metadata": {},
   "source": [
    "<b>Ans</b>:An expression is a combination of values, variables, operators, and calls to functions. Expressions need to be evaluated. If we ask Python to print an expression, the interpreter evaluates the expression and displays the result. The examples of this expressions mentioned below."
   ]
  },
  {
   "cell_type": "code",
   "execution_count": 52,
   "id": "41183a1b",
   "metadata": {},
   "outputs": [
    {
     "data": {
      "text/plain": [
       "0"
      ]
     },
     "execution_count": 52,
     "metadata": {},
     "output_type": "execute_result"
    }
   ],
   "source": [
    "# in this Expression, The Python Interpreter Evaluates it to 0\n",
    "10+50-30*2"
   ]
  },
  {
   "cell_type": "markdown",
   "id": "a96bd8f7",
   "metadata": {},
   "source": [
    "# 5. This assignment statements, like spam = 10. What is the difference between an expression and a statement?"
   ]
  },
  {
   "cell_type": "markdown",
   "id": "1363ef1b",
   "metadata": {},
   "source": [
    "<b>Ans</b>: An expression is a combination of values, variables, and operators.When we type an expression at the prompt, the interpreter evaluates it, which means that it finds the value of the expression.\n",
    "\n",
    "* eg: 10+50-30*2 is an example of a statement\n",
    "\n",
    "A statement is a unit of code that has an effect, like creating a variable or displaying a value.When we type a statement, the interpreter executes it, which means that it does whatever the statement says. In general, statements don’t have values.\n",
    "\n",
    "* eg: variable declaration and assignment are statements because they do not return a value"
   ]
  },
  {
   "cell_type": "code",
   "execution_count": 53,
   "id": "264b7ba3",
   "metadata": {},
   "outputs": [
    {
     "name": "stdout",
     "output_type": "stream",
     "text": [
      "Hello World ! it's ineuron\n"
     ]
    }
   ],
   "source": [
    "#Example:\n",
    "10+50-2*30 # Is a Expression\n",
    "courseName = 'batch nov 21 2022 INeuron FullStack DataScience' # Is a Statement\n",
    "print(\"Hello World ! it's ineuron\") # Is a Expression Statement"
   ]
  },
  {
   "cell_type": "markdown",
   "id": "83bdaad6",
   "metadata": {},
   "source": [
    "# 6. After running the following code, what does the variable bacon contain?"
   ]
  },
  {
   "cell_type": "markdown",
   "id": "156d4acb",
   "metadata": {},
   "source": [
    "<b>Ans</b>: The variable bacon is set to 22 .The expression bacon + 1 does not reassign the value in bacon (that would the case if the expression is like bacon = bacon + 1 instead of bacon + 1)\n"
   ]
  },
  {
   "cell_type": "code",
   "execution_count": 54,
   "id": "03ef6ac4",
   "metadata": {},
   "outputs": [
    {
     "name": "stdout",
     "output_type": "stream",
     "text": [
      "22\n"
     ]
    }
   ],
   "source": [
    "#case 1\n",
    "bacon=22\n",
    "bacon+1\n",
    "print(bacon)"
   ]
  },
  {
   "cell_type": "code",
   "execution_count": 55,
   "id": "753c10a6",
   "metadata": {},
   "outputs": [
    {
     "name": "stdout",
     "output_type": "stream",
     "text": [
      "23\n"
     ]
    }
   ],
   "source": [
    "#case 2\n",
    "bacon=22\n",
    "bacon=bacon+1 \n",
    "print(bacon)"
   ]
  },
  {
   "cell_type": "markdown",
   "id": "64e9b9e7",
   "metadata": {},
   "source": [
    "# 7. What should the values of the following two terms be?\n",
    "### 'spam' + 'spamspam'\n",
    "### 'spam' * 3"
   ]
  },
  {
   "cell_type": "markdown",
   "id": "d599ce85",
   "metadata": {},
   "source": [
    "<b>Ans</b>: Both expressions evaluate to the string 'spamspamspam' Where as the first expression follows String Concatentation and the second expression follows String Multiplication."
   ]
  },
  {
   "cell_type": "code",
   "execution_count": 56,
   "id": "cd23b2a2",
   "metadata": {},
   "outputs": [
    {
     "name": "stdout",
     "output_type": "stream",
     "text": [
      "spamspamspam\n",
      "spamspamspam\n"
     ]
    }
   ],
   "source": [
    "print('spam'+'spamspam') # string concatenation\n",
    "print('spam'*3) # string multiplication"
   ]
  },
  {
   "cell_type": "markdown",
   "id": "69427687",
   "metadata": {},
   "source": [
    "# 8. Why is eggs a valid variable name while 100 is invalid?"
   ]
  },
  {
   "cell_type": "code",
   "execution_count": 57,
   "id": "25e3684d",
   "metadata": {},
   "outputs": [
    {
     "ename": "SyntaxError",
     "evalue": "cannot assign to literal (Temp/ipykernel_11256/1844117655.py, line 2)",
     "output_type": "error",
     "traceback": [
      "\u001b[1;36m  File \u001b[1;32m\"C:\\Users\\mik\\AppData\\Local\\Temp/ipykernel_11256/1844117655.py\"\u001b[1;36m, line \u001b[1;32m2\u001b[0m\n\u001b[1;33m    100='hello world !' # Invalid Variable Initilization.\u001b[0m\n\u001b[1;37m    ^\u001b[0m\n\u001b[1;31mSyntaxError\u001b[0m\u001b[1;31m:\u001b[0m cannot assign to literal\n"
     ]
    }
   ],
   "source": [
    "eggs='Ineuron' # Valid variable Initilization.\n",
    "100='hello world !' # Invalid Variable Initilization.\n",
    "print(eggs) #prints the value of egg ie Ineuron.\n",
    "print(100) # Raises a Syntax Error as 100 is not a valid variable name."
   ]
  },
  {
   "cell_type": "markdown",
   "id": "7a3a09d1",
   "metadata": {},
   "source": [
    "# 9. What three functions can be used to get the integer, floating-point number, or string version of a value?"
   ]
  },
  {
   "cell_type": "markdown",
   "id": "b02c9cc3",
   "metadata": {},
   "source": [
    "<b>Ans</b>: The int(),float(),and str() functions will evaluate to the integer,floating-point number,string version of the value passed to them.\n",
    "\n"
   ]
  },
  {
   "cell_type": "code",
   "execution_count": 58,
   "id": "6c078704",
   "metadata": {},
   "outputs": [
    {
     "name": "stdout",
     "output_type": "stream",
     "text": [
      "int(10.0) ->  10\n",
      "float(10) ->  10.0\n",
      "str(10) ->  10\n"
     ]
    }
   ],
   "source": [
    "# Examples:\n",
    "print('int(10.0) -> ',int(10.0)) # int() function converts given input to int\n",
    "print('float(10) -> ',float(10)) # float() function converts given input to float\n",
    "print('str(10) -> ',str(10)) # str() function converts given input to string"
   ]
  },
  {
   "cell_type": "markdown",
   "id": "d8dc402a",
   "metadata": {},
   "source": [
    "# 10.Why does this expression cause an error? how can you fix it?\n",
    "## 'I have eaten ' + 99 + 'burritos.'\n"
   ]
  },
  {
   "cell_type": "markdown",
   "id": "7325abc6",
   "metadata": {},
   "source": [
    "<b>Ans</b>: This cause of error is 99.because 99 is not a string. 99 must be typecasted to a string to fix this error. the correct way is:<br>\n",
    "<b>Input</b>: 'I have eaten ' + str(99) + 'burritos.'<br>\n",
    "<b>Output</b>: 'I have eaten 99 burritos.'"
   ]
  },
  {
   "cell_type": "code",
   "execution_count": 59,
   "id": "aa6a4f23",
   "metadata": {},
   "outputs": [
    {
     "name": "stdout",
     "output_type": "stream",
     "text": [
      "I have eaten 99 burritos.\n"
     ]
    }
   ],
   "source": [
    "print('I have eaten '+str(99)+' burritos.')"
   ]
  },
  {
   "cell_type": "code",
   "execution_count": null,
   "id": "1b8f8029",
   "metadata": {},
   "outputs": [],
   "source": []
  }
 ],
 "metadata": {
  "kernelspec": {
   "display_name": "Python 3 (ipykernel)",
   "language": "python",
   "name": "python3"
  },
  "language_info": {
   "codemirror_mode": {
    "name": "ipython",
    "version": 3
   },
   "file_extension": ".py",
   "mimetype": "text/x-python",
   "name": "python",
   "nbconvert_exporter": "python",
   "pygments_lexer": "ipython3",
   "version": "3.9.7"
  }
 },
 "nbformat": 4,
 "nbformat_minor": 5
}
